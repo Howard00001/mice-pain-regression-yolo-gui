{
 "cells": [
  {
   "cell_type": "code",
   "execution_count": 1,
   "metadata": {},
   "outputs": [],
   "source": [
    "import os\n",
    "import numpy as np\n",
    "import xml.etree.cElementTree as ET"
   ]
  },
  {
   "cell_type": "code",
   "execution_count": 2,
   "metadata": {},
   "outputs": [],
   "source": [
    "# path config\n",
    "xml_path = \"./data/xml/\""
   ]
  },
  {
   "cell_type": "code",
   "execution_count": 3,
   "metadata": {},
   "outputs": [],
   "source": [
    "def generate(path):\n",
    "    tree = ET.ElementTree(file=path)\n",
    "    hr_root = tree.getroot()\n",
    "    test_child = []\n",
    "    for child_of_root in hr_root:\n",
    "        test_child.append(child_of_root)\n",
    "    # get locations\n",
    "    test = [None]*10\n",
    "    for name_count in range(5):\n",
    "        tmpx = []\n",
    "        tmpy = []\n",
    "        for i in range(len(test_child[2])):\n",
    "            x = (int(test_child[name_count + 2][i].attrib['x']) + int(test_child[name_count + 2][i].attrib['width']) * 0.5)\n",
    "            y = (int(test_child[name_count + 2][i].attrib['y']) + int(test_child[name_count + 2][i].attrib['height']) * 0.5)\n",
    "            tmpx.append(x)\n",
    "            tmpy.append(y)\n",
    "        test[name_count*2] = tmpx\n",
    "        test[name_count*2+1] = tmpy\n",
    "        \n",
    "        \n",
    "    test_loc = np.array(test).T\n",
    "    test_loc = np.array(test_loc,dtype='int_')\n",
    "    label = np.array([[\"Reyex\",\"Reyey\",\"Leyex\",\"Leyey\",\"Rearx\",\"Reary\",\"Learx\",\"Leary\",\"nosex\",\"nosey\"]])\n",
    "    test_loc = np.concatenate([label,test_loc])\n",
    "    return test_loc\n",
    "\n",
    "def frame_ls(path):\n",
    "    tree = ET.ElementTree(file=path)\n",
    "    i = tree.findall('attribute')\n",
    "    frames = []\n",
    "    for fNode in i[0]:\n",
    "        frames.append(fNode.get('frame'))\n",
    "    return np.array(frames)"
   ]
  },
  {
   "cell_type": "code",
   "execution_count": 5,
   "metadata": {},
   "outputs": [],
   "source": [
    "for root, dirs, files in os.walk(xml_path):\n",
    "    root = root.replace('\\\\','/')\n",
    "    save_path = root.replace('xml','csv')   ####csv\n",
    "    #save_path = root.replace('video_xml','framelist')   ####framelist\n",
    "    if not os.path.isdir(save_path):\n",
    "        os.makedirs(save_path)\n",
    "    for file in files:\n",
    "        if not (file.find('.xml') == -1):\n",
    "            xml_read = generate(root+'/'+file)     ####csv\n",
    "            #xml_read = frame_ls(root+'/'+file)      ####framelist\n",
    "            save_file = save_path+'/'+file.replace('.xml','.csv')\n",
    "            np.savetxt(save_file, xml_read, delimiter=\",\", fmt=\"%s\")"
   ]
  },
  {
   "cell_type": "code",
   "execution_count": null,
   "metadata": {},
   "outputs": [],
   "source": []
  }
 ],
 "metadata": {
  "interpreter": {
   "hash": "2ce8e876ce76a80ea7b2a64b299f523f116eb6009bdeb195c2c449dcab548dfa"
  },
  "kernelspec": {
   "display_name": "Python 3.8.5 64-bit ('yolo': conda)",
   "name": "python3"
  },
  "language_info": {
   "codemirror_mode": {
    "name": "ipython",
    "version": 3
   },
   "file_extension": ".py",
   "mimetype": "text/x-python",
   "name": "python",
   "nbconvert_exporter": "python",
   "pygments_lexer": "ipython3",
   "version": "3.8.12"
  }
 },
 "nbformat": 4,
 "nbformat_minor": 4
}
